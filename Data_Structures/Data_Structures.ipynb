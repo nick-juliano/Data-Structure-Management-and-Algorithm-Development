{
 "cells": [
  {
   "cell_type": "markdown",
   "metadata": {
    "collapsed": true,
    "pycharm": {
     "name": "#%% md\n"
    }
   },
   "source": [
    "# <u>Project 1</u>: Data Structures Within Python\n",
    "\n",
    "## Objectives\n",
    "- Survey different data structures and how they are represented, initialized, and manipulated within Python\n",
    "___"
   ]
  },
  {
   "cell_type": "markdown",
   "source": [
    "## Overview\n",
    "\n",
    "<b> Data structures </b> are different ways to organize data so that, depending on the situation or use case, the content within can be accessed and modified optimally. The following are the main types of data structures built into python:"
   ],
   "metadata": {
    "collapsed": false,
    "pycharm": {
     "name": "#%% md\n"
    }
   },
   "outputs": [
    {
     "ename": "SyntaxError",
     "evalue": "invalid syntax (<ipython-input-1-84d15802aa8a>, line 3)",
     "output_type": "error",
     "traceback": [
      "\u001B[0;36m  File \u001B[0;32m\"<ipython-input-1-84d15802aa8a>\"\u001B[0;36m, line \u001B[0;32m3\u001B[0m\n\u001B[0;31m    <b> Data structures </b> within python\u001B[0m\n\u001B[0m    ^\u001B[0m\n\u001B[0;31mSyntaxError\u001B[0m\u001B[0;31m:\u001B[0m invalid syntax\n"
     ]
    }
   ],
   "execution_count": 1
  },
  {
   "cell_type": "markdown",
   "source": [
    "### Arrays [lists]\n",
    "Sequences of values.\n",
    "\n",
    "#### Example\n",
    "`list = [1, 3, 'this is a string']`\n",
    "\n",
    "#### Complexity\n",
    "| Method     | Appending | Getting | Inserting | Deleting  |                Searching                 |\n",
    "|------------|:---------:|:-------:|:---------:|:---------:|:----------------------------------------:|\n",
    "| Complexity |   O(1)    | O(1)    |   O(N)    |   O(N)    |  O(N) <i>unless it's already sorted</i>  |\n",
    "\n",
    "#### Questions to ask\n",
    "\n",
    "1) Is the array sorted?\n",
    "<i>Try to use a Binary Search Algorithm</i>\n",
    "\n",
    "2) Are there duplicate values in the array?\n",
    "<i>Adjust code accordingly</i>\n",
    "\n",
    "3) What happens if the array is empty?\n",
    "<i>Accomodate this in code</i>\n",
    "\n",
    "4) Are there special cases for arrays with 2-3 elements?\n",
    "<i>Accomodate this in code</i>\n",
    "\n"
   ],
   "metadata": {
    "collapsed": false,
    "pycharm": {
     "name": "#%% md\n"
    }
   }
  },
  {
   "cell_type": "markdown",
   "source": [
    "## Linked Lists [absent from standard library]\n",
    "An ordered collection of separate objects. Where lists utilize a contiguous memory block, linked lists store references to the separate objects as their elements.\n",
    "\n",
    "#### Example\n",
    "```\n",
    "class Node:\n",
    "   def __init__(self, dataval=None):\n",
    "      self.dataval = dataval\n",
    "      self.nextval = None\n",
    "\n",
    "class SLinkedList:\n",
    "   def __init__(self):\n",
    "      self.headval = None\n",
    "\n",
    "list1 = SLinkedList()\n",
    "list1.headval = Node(\"Mon\")\n",
    "e2 = Node(\"Tue\")\n",
    "e3 = Node(\"Wed\")\n",
    "# Link first Node to second node\n",
    "list1.headval.nextval = e2\n",
    "\n",
    "# Link second Node to third node\n",
    "e2.nextval = e3\n",
    "```\n",
    "\n",
    "Taken from [tutorialspoint](https://www.tutorialspoint.com/python_data_structure/python_linked_lists.htm)\n",
    "\n",
    "#### Complexity\n",
    "\n",
    "| Method     | Appending | Getting | Inserting | Deleting | Searching |\n",
    "|------------|:---------:|:-------:|:---------:|:--------:|:---------:|\n",
    "| Complexity |   O(1)    |  O(N)   |   O(1)    |   O(1)   |   O(N)    |\n",
    "\n",
    "#### Questions to ask\n",
    "\n",
    "1) Would a linked list improve solution vs. list?\n",
    "\n",
    "2) Would the solution change if there were only 1 or 2 nodes?\n",
    "\n",
    "3) Can the solution be found without using extra space?\n",
    "<i>often, references to other nodes may be changed instead of creating extra space</i>"
   ],
   "metadata": {
    "collapsed": false,
    "pycharm": {
     "name": "#%% md\n"
    }
   }
  },
  {
   "cell_type": "markdown",
   "source": [
    "## Stack [list]\n",
    "Last-in/first-out data structure. Append is used to add elements. Pop must be called on the first index.\n",
    "\n",
    "#### Example\n",
    "`stack = [1, 2, 3]` where 3 would be the first to be removed when stack is popped.\n",
    "\n",
    "#### Complexity\n",
    "\n",
    "| Method     | Getting | Inserting | Deleting | Searching |\n",
    "|------------|:-------:|:---------:|:--------:|:---------:|\n",
    "| Complexity |  O(N)   |   O(1)    |   O(1)   |   O(N)    |\n",
    "\n",
    "#### Keep in mind\n",
    "\n",
    "1) Use whenever elements extracted in the opposite order of insertion."
   ],
   "metadata": {
    "collapsed": false,
    "pycharm": {
     "name": "#%% md\n"
    }
   }
  },
  {
   "cell_type": "markdown",
   "source": [
    "## Queue [list]\n",
    "First-in/first-out data structure. Append is used to add elements. Pop can be called regularly.\n",
    "\n",
    "#### Example\n",
    "`queue = [1, 2, 3]` where 1 would be the first to be removed when stack is popped.\n",
    "\n",
    "#### Complexity\n",
    "\n",
    "| Method     | Getting | Inserting | Deleting | Searching |\n",
    "|------------|:-------:|:---------:|:--------:|:---------:|\n",
    "| Complexity |  O(N)   |   O(1)    |   O(1)   |   O(N)    |\n",
    "\n",
    "#### Keep in mind\n",
    "\n",
    "1) Use whenever elements extracted in the order of insertion.\n",
    "2) Know how to implement queue using 2 stacks."
   ],
   "metadata": {
    "collapsed": false,
    "pycharm": {
     "name": "#%% md\n"
    }
   }
  },
  {
   "cell_type": "markdown",
   "source": [],
   "metadata": {
    "collapsed": false,
    "pycharm": {
     "name": "#%% md\n"
    }
   }
  },
  {
   "cell_type": "markdown",
   "source": [
    "### Hash Table [Dictionary]\n",
    "Used to store key : Value pairs\n",
    "\n",
    "#### Example\n",
    "`dictionary = {'potato' : 0.49, 'banana' : 0.29}`\n",
    "\n",
    "#### Complexity\n",
    "| Method     | Getting | Inserting | Deleting  |\n",
    "|------------|:-------:|:---------:|:---------:|\n",
    "| Complexity | O(1)    |   O(1)    |   O(1)    |\n",
    "\n",
    "#### Keep in mind\n",
    "\n",
    "1) Use a hash table when you want to count the occurance of certain elements.\n",
    "\n",
    "2) Use a hash table when searching for an element that is commonly used in an operation."
   ],
   "metadata": {
    "collapsed": false,
    "pycharm": {
     "name": "#%% md\n"
    }
   }
  },
  {
   "cell_type": "markdown",
   "source": [],
   "metadata": {
    "collapsed": false,
    "pycharm": {
     "name": "#%% md\n"
    }
   }
  },
  {
   "cell_type": "markdown",
   "source": [
    "### Heap [heapq module]\n",
    "Returns max or min element in a collection of elements.\n",
    "\n",
    "#### Example\n",
    "`import heapq`\n",
    "\n",
    "#### Complexity\n",
    "| Method     | Getting | Inserting  |  Deleting  |\n",
    "|------------|:-------:|:----------:|:----------:|\n",
    "| Complexity | O(logN) |  O(logN)   |  O(logN)   |\n",
    "\n",
    "#### Keep in mind\n",
    "\n"
   ],
   "metadata": {
    "collapsed": false,
    "pycharm": {
     "name": "#%% md\n"
    }
   }
  },
  {
   "cell_type": "markdown",
   "source": [
    "### Binary Trees\n",
    "A data structure where a given node has a value, and it references at most 2 other nodes (children). Binary Search Trees are the same except for how the child nodes are determined. If child > parent, child = right child. If child < parent, child = left child.\n",
    "\n",
    "#### Example\n",
    "`import heapq`\n",
    "\n",
    "#### Complexity\n",
    "| Method     |  Getting  |  Inserting  |  Deleting   | Searching |\n",
    "|------------|:---------:|:-----------:|:-----------:|:---------:|\n",
    "| Complexity | O(logN)   |  O(logN)    |  O(logN)    | O(logN)   |\n",
    "\n",
    "#### Keep in mind\n",
    "\n",
    "- Is there inherent ordering in data value?\n",
    "- If the problem involves binary search tree, the solution should be faster than O(N)\n",
    "- If elements should be compared, binary search tree should be best option.\n"
   ],
   "metadata": {
    "collapsed": false,
    "pycharm": {
     "name": "#%% md\n"
    }
   }
  },
  {
   "cell_type": "code",
   "execution_count": null,
   "outputs": [],
   "source": [],
   "metadata": {
    "collapsed": false,
    "pycharm": {
     "name": "#%%\n"
    }
   }
  }
 ],
 "metadata": {
  "kernelspec": {
   "display_name": "Python 3",
   "language": "python",
   "name": "python3"
  },
  "language_info": {
   "codemirror_mode": {
    "name": "ipython",
    "version": 2
   },
   "file_extension": ".py",
   "mimetype": "text/x-python",
   "name": "python",
   "nbconvert_exporter": "python",
   "pygments_lexer": "ipython2",
   "version": "2.7.6"
  }
 },
 "nbformat": 4,
 "nbformat_minor": 0
}